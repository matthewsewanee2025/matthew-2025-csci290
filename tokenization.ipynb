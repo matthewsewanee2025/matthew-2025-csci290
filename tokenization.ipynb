{
 "cells": [
  {
   "cell_type": "markdown",
   "id": "f592fbb0",
   "metadata": {},
   "source": [
    "# Tokenization\n",
    "\n",
    "_Tokenization_ is the process of converting a body of text into individual _tokens_, e.g., words and punctuation characters. This is the first step for most Natural Language Processing (NLP) tasks, including preparing data for training an LLM. Let's see how it's done!"
   ]
  },
  {
   "cell_type": "markdown",
   "id": "09f17e49",
   "metadata": {},
   "source": [
    "## Some sample text"
   ]
  },
  {
   "cell_type": "code",
   "execution_count": null,
   "metadata": {},
   "outputs": [],
   "source": [
    "with open(\"The_Man's_Story.txt\", \"r\") as f:\n",
    "    text = f\n",
    "#print(text)\n",
    "print(f\"This sample text has {len(text)} characters.\")\n",
    "print(text.split())\n",
    "import re\n",
    "tokens = re.split(r'([.?!:()]|\\s)', text)\n",
    "tokens = [item for item in tokens if item.split()]\n",
    "tokens = sorted(list(set(tokens)))\n",
    "print(tokens)\n",
    "vocab = {token:index for index, token in enumerate(tokens)}\n",
    "print(vocab.items())\n",
    "vocab[\"a\"]"
   ]
  },
  {
   "cell_type": "code",
   "execution_count": 43,
   "id": "8a5f8038",
   "metadata": {},
   "outputs": [
    {
     "ename": "UnicodeDecodeError",
     "evalue": "'charmap' codec can't decode byte 0x9d in position 2331: character maps to <undefined>",
     "output_type": "error",
     "traceback": [
      "\u001b[1;31m---------------------------------------------------------------------------\u001b[0m",
      "\u001b[1;31mUnicodeDecodeError\u001b[0m                        Traceback (most recent call last)",
      "Cell \u001b[1;32mIn[43], line 5\u001b[0m\n\u001b[0;32m      1\u001b[0m \u001b[38;5;28;01mimport\u001b[39;00m \u001b[38;5;21;01mre\u001b[39;00m\n\u001b[0;32m      3\u001b[0m \u001b[38;5;28;01mwith\u001b[39;00m \u001b[38;5;28mopen\u001b[39m(\u001b[38;5;124m\"\u001b[39m\u001b[38;5;124mThe_Man\u001b[39m\u001b[38;5;124m'\u001b[39m\u001b[38;5;124ms_Story.txt\u001b[39m\u001b[38;5;124m\"\u001b[39m, \u001b[38;5;124m\"\u001b[39m\u001b[38;5;124mr\u001b[39m\u001b[38;5;124m\"\u001b[39m) \u001b[38;5;28;01mas\u001b[39;00m file:\n\u001b[1;32m----> 5\u001b[0m \u001b[43m    \u001b[49m\u001b[38;5;28;43;01mfor\u001b[39;49;00m\u001b[43m \u001b[49m\u001b[43mline\u001b[49m\u001b[43m \u001b[49m\u001b[38;5;129;43;01min\u001b[39;49;00m\u001b[43m \u001b[49m\u001b[43mfile\u001b[49m\u001b[43m:\u001b[49m\n\u001b[0;32m      7\u001b[0m \u001b[43m        \u001b[49m\u001b[43mraw_text\u001b[49m\u001b[43m \u001b[49m\u001b[38;5;241;43m=\u001b[39;49m\u001b[43m \u001b[49m\u001b[43mf\u001b[49m\n\u001b[0;32m      8\u001b[0m \u001b[43m        \u001b[49m\u001b[43mtokens\u001b[49m\u001b[43m \u001b[49m\u001b[38;5;241;43m+\u001b[39;49m\u001b[38;5;241;43m=\u001b[39;49m\u001b[43m \u001b[49m\u001b[43mre\u001b[49m\u001b[38;5;241;43m.\u001b[39;49m\u001b[43msplit\u001b[49m\u001b[43m(\u001b[49m\u001b[38;5;124;43mr\u001b[39;49m\u001b[38;5;124;43m'\u001b[39;49m\u001b[38;5;124;43m([.?!:()]|\u001b[39;49m\u001b[38;5;124;43m\\\u001b[39;49m\u001b[38;5;124;43ms)\u001b[39;49m\u001b[38;5;124;43m'\u001b[39;49m\u001b[43m,\u001b[49m\u001b[43m \u001b[49m\u001b[43mline\u001b[49m\u001b[43m)\u001b[49m\n",
      "File \u001b[1;32mC:\\Program Files\\WindowsApps\\PythonSoftwareFoundation.Python.3.11_3.11.2544.0_x64__qbz5n2kfra8p0\\Lib\\encodings\\cp1252.py:23\u001b[0m, in \u001b[0;36mIncrementalDecoder.decode\u001b[1;34m(self, input, final)\u001b[0m\n\u001b[0;32m     22\u001b[0m \u001b[38;5;28;01mdef\u001b[39;00m \u001b[38;5;21mdecode\u001b[39m(\u001b[38;5;28mself\u001b[39m, \u001b[38;5;28minput\u001b[39m, final\u001b[38;5;241m=\u001b[39m\u001b[38;5;28;01mFalse\u001b[39;00m):\n\u001b[1;32m---> 23\u001b[0m     \u001b[38;5;28;01mreturn\u001b[39;00m codecs\u001b[38;5;241m.\u001b[39mcharmap_decode(\u001b[38;5;28minput\u001b[39m,\u001b[38;5;28mself\u001b[39m\u001b[38;5;241m.\u001b[39merrors,decoding_table)[\u001b[38;5;241m0\u001b[39m]\n",
      "\u001b[1;31mUnicodeDecodeError\u001b[0m: 'charmap' codec can't decode byte 0x9d in position 2331: character maps to <undefined>"
     ]
    }
   ],
   "source": [
    "import re\n",
    "\n",
    "with open(\"The_Man's_Story.txt\", \"r\") as file:\n",
    "\n",
    "    for line in file:\n",
    "    \n",
    "        raw_text = f\n",
    "        tokens += re.split(r'([.?!:()]|\\s)', line)\n",
    "        tokens += [item for item in tokens if item.split()]\n",
    "        tokens = sorted(list(set(tokens)))\n",
    "\n",
    "class SimpleTokenizer:\n",
    "    def _init_(self, vocab):\n",
    "        self.str_to_int = vocab\n",
    "        self.int_to_str = {index:token for token, index in vocab.items()}\n",
    "\n",
    "    def encode(self, text):\n",
    "        tokens = text.split(r'([.?!:()]|\\s)')\n",
    "        tokens = [item if item in self.str_to_int else \"<|unk|>\" for item in tokens if item.split()]\n",
    "        ids = [self.str_to_int[token] for token in tokens]\n",
    "        return ids\n",
    "\n",
    "    def decode(self, ids):\n",
    "        text = [self.int_to_str[id] for id in ids]\n",
    "        text = re.sub(r'([.?!:()]|\\s)', r'\\1', text)\n",
    "        return text\n",
    "\n",
    "phrase = 'something'\n",
    "ids = SimpleTokenizer.encode(phrase)\n",
    "\n",
    "tokenizer = SimpleTokenizer(vocab)\n",
    "print(ids)\n",
    "text = tokenizer.decode(ids)\n",
    "\n",
    "print(tokens[2880:])\n",
    "print(tokens[-20:])\n",
    "print(len(tokens))\n",
    "vocab = {token:index for index, token in enumerate(tokens)}\n",
    "vocab.items()\n",
    "vocab['It']\n",
    "reverse_vocab = {index:token for token, index in vocab.items()}\n",
    "reverse_vocab.items()\n",
    "print(\" \".join([reverse_vocab[id] for id in ids]))\n",
    "\n",
    "\n",
    "print(text)"
   ]
  }
 ],
 "metadata": {
  "kernelspec": {
   "display_name": "Python 3",
   "language": "python",
   "name": "python3"
  },
  "language_info": {
   "codemirror_mode": {
    "name": "ipython",
    "version": 3
   },
   "file_extension": ".py",
   "mimetype": "text/x-python",
   "name": "python",
   "nbconvert_exporter": "python",
   "pygments_lexer": "ipython3",
   "version": "3.11.9"
  }
 },
 "nbformat": 4,
 "nbformat_minor": 5
}
